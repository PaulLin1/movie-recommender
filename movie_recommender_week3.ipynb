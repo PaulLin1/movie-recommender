{
  "nbformat": 4,
  "nbformat_minor": 0,
  "metadata": {
    "colab": {
      "provenance": []
    },
    "kernelspec": {
      "name": "python3",
      "display_name": "Python 3"
    },
    "language_info": {
      "name": "python"
    }
  },
  "cells": [
    {
      "cell_type": "code",
      "execution_count": null,
      "metadata": {
        "id": "r0s9ovxE9XRH"
      },
      "outputs": [],
      "source": []
    },
    {
      "cell_type": "markdown",
      "source": [
        "Welcome to week 3 of the project! This notebook will help you learn about looking at data using pandas and transforming it. To begin, make sure that this notebook is in your repository! If not, it will not work."
      ],
      "metadata": {
        "id": "hpYmZb0F9aZf"
      }
    },
    {
      "cell_type": "markdown",
      "source": [
        "To begin, we will have to download some libraries. If you don't know what Python libraries are, they are collections of pre-written code. Imagine it as a function that is created that you can call whenever you want. Today, we will be using pandas and numpy, 2 extremely popular libraries. To begin, use the pip package manager to install them. To run a cell, hover over the left side of it and click the play button."
      ],
      "metadata": {
        "id": "EHYHCrUj9kGv"
      }
    },
    {
      "cell_type": "code",
      "source": [
        "!pip install -q numpy pandas"
      ],
      "metadata": {
        "colab": {
          "base_uri": "https://localhost:8080/"
        },
        "id": "81dvdPk29_nk",
        "outputId": "24a0a480-51b6-4b0b-f75b-bb61059c0756"
      },
      "execution_count": 1,
      "outputs": [
        {
          "output_type": "stream",
          "name": "stdout",
          "text": [
            "Requirement already satisfied: numpy in /usr/local/lib/python3.11/dist-packages (1.26.4)\n",
            "Requirement already satisfied: pandas in /usr/local/lib/python3.11/dist-packages (2.2.2)\n",
            "Requirement already satisfied: python-dateutil>=2.8.2 in /usr/local/lib/python3.11/dist-packages (from pandas) (2.8.2)\n",
            "Requirement already satisfied: pytz>=2020.1 in /usr/local/lib/python3.11/dist-packages (from pandas) (2025.1)\n",
            "Requirement already satisfied: tzdata>=2022.7 in /usr/local/lib/python3.11/dist-packages (from pandas) (2025.1)\n",
            "Requirement already satisfied: six>=1.5 in /usr/local/lib/python3.11/dist-packages (from python-dateutil>=2.8.2->pandas) (1.17.0)\n"
          ]
        }
      ]
    },
    {
      "cell_type": "markdown",
      "source": [
        "Thats great, but what exactly are these libraries used for? Here is a great video that explains it https://www.youtube.com/watch?v=KHoEbRH46Zk. Basically, numpy is a library that gives you more ways to interact with data. Think of the prebuilt sum function in Python. Instead having to sum through the values of a list yourself, you can just call the sum function. Numpy is similar, but it gives you access to more powerful functions. Pandas is a tool for organizing data. Instead of sum functions that perform actions using the data, it helps with rearranging and indexing it in interesting ways. You'll see how they are used as we progress through the notebook."
      ],
      "metadata": {
        "id": "E6lfzN-9-QXW"
      }
    },
    {
      "cell_type": "code",
      "source": [
        "# import dependencies\n",
        "# Since pandas and numpy are used a lot, we will import them under short names\n",
        "# Therefore, we can call pd whenever we use pandas instead of typing out the whole thing\n",
        "import pandas as pd\n",
        "import numpy as np\n",
        "\n",
        "# Load in the data using pandas\n",
        "df = pd.read_csv();"
      ],
      "metadata": {
        "id": "Mtgd9V8N-6My"
      },
      "execution_count": null,
      "outputs": []
    },
    {
      "cell_type": "markdown",
      "source": [
        "A great thing about jupyter notebooks is that you can print out variables by just typing their name. Instead of having to type print(df), we can just do df."
      ],
      "metadata": {
        "id": "CIxDaA6r_Tbc"
      }
    },
    {
      "cell_type": "code",
      "source": [
        "df"
      ],
      "metadata": {
        "id": "25IkuYXb_QTG"
      },
      "execution_count": null,
      "outputs": []
    },
    {
      "cell_type": "markdown",
      "source": [
        "Your output should look like a table. Pandas took in the csv file and transformed it into a dataframe, which can be indexed and transformed easily. As you can see, each row is a movie and each column is a feature that it can have."
      ],
      "metadata": {
        "id": "S9emzWRV_c5R"
      }
    }
  ]
}